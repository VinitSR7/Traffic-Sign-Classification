{
 "cells": [
  {
   "cell_type": "markdown",
   "metadata": {},
   "source": [
    "## Importing Libraries"
   ]
  },
  {
   "cell_type": "code",
   "execution_count": 1,
   "metadata": {},
   "outputs": [
    {
     "name": "stderr",
     "output_type": "stream",
     "text": [
      "Using TensorFlow backend.\n"
     ]
    }
   ],
   "source": [
    "from keras.preprocessing.image import ImageDataGenerator\n",
    "from keras.optimizers import Adam\n",
    "from keras.utils import to_categorical\n",
    "from sklearn.metrics import confusion_matrix, classification_report\n",
    "from skimage import transform\n",
    "from skimage import exposure\n",
    "from skimage import io\n",
    "import matplotlib.pyplot as plt\n",
    "import numpy as np\n",
    "import random\n",
    "import os\n"
   ]
  },
  {
   "cell_type": "markdown",
   "metadata": {},
   "source": [
    "## Loading the Data"
   ]
  },
  {
   "cell_type": "code",
   "execution_count": 2,
   "metadata": {},
   "outputs": [],
   "source": [
    "def load_split(csvPath):\n",
    "    data = []\n",
    "    labels = []\n",
    "\n",
    "    rows = open(csvPath).read().strip().split(\"\\n\")[1:]\n",
    "    random.shuffle(rows)\n",
    "\n",
    "    for (i, row) in enumerate(rows):\n",
    "        if i > 0 and i % 1000 == 0:\n",
    "            print(\"[INFO] processed {} total images\".format(i))\n",
    "            \n",
    "        (label, imagePath) = row.strip().split(\",\")[-2:]\n",
    "\n",
    "        imagePath =  \"dataset/\" + imagePath\n",
    "        image = io.imread(imagePath)\n",
    "\n",
    "        # Since it is given the problem statement, images can be of very low contrast\n",
    "        # we will perform Contrast Limited Adaptive Histogran Equalization (CLAHE) to handle such problem\n",
    "        image = transform.resize(image, (32, 32))\n",
    "        image = exposure.equalize_adapthist(image, clip_limit=0.1)\n",
    "\n",
    "        data.append(image)\n",
    "        labels.append(int(label))\n",
    "\n",
    "    data = np.array(data)\n",
    "    labels = np.array(labels)\n",
    "\n",
    "    return (data, labels)"
   ]
  },
  {
   "cell_type": "code",
   "execution_count": 6,
   "metadata": {},
   "outputs": [],
   "source": [
    "labelNames = open(\"signnames.csv\").read().strip().split(\"\\n\")[1:]\n",
    "labelNames = [l.split(\",\")[1] for l in labelNames]"
   ]
  },
  {
   "cell_type": "code",
   "execution_count": 7,
   "metadata": {},
   "outputs": [],
   "source": [
    "trainPath = \"dataset/Train.csv\"\n",
    "testPath = \"dataset/Test.csv\""
   ]
  },
  {
   "cell_type": "code",
   "execution_count": 8,
   "metadata": {},
   "outputs": [
    {
     "name": "stdout",
     "output_type": "stream",
     "text": [
      "[INFO] loading training and testing data...\n",
      "[INFO] processed 1000 total images\n",
      "[INFO] processed 2000 total images\n",
      "[INFO] processed 3000 total images\n",
      "[INFO] processed 4000 total images\n",
      "[INFO] processed 5000 total images\n",
      "[INFO] processed 6000 total images\n",
      "[INFO] processed 7000 total images\n",
      "[INFO] processed 8000 total images\n",
      "[INFO] processed 9000 total images\n",
      "[INFO] processed 10000 total images\n",
      "[INFO] processed 11000 total images\n",
      "[INFO] processed 12000 total images\n",
      "[INFO] processed 13000 total images\n",
      "[INFO] processed 14000 total images\n",
      "[INFO] processed 15000 total images\n",
      "[INFO] processed 16000 total images\n",
      "[INFO] processed 17000 total images\n",
      "[INFO] processed 18000 total images\n",
      "[INFO] processed 19000 total images\n",
      "[INFO] processed 20000 total images\n",
      "[INFO] processed 21000 total images\n",
      "[INFO] processed 22000 total images\n",
      "[INFO] processed 23000 total images\n",
      "[INFO] processed 24000 total images\n",
      "[INFO] processed 25000 total images\n",
      "[INFO] processed 26000 total images\n",
      "[INFO] processed 27000 total images\n",
      "[INFO] processed 28000 total images\n",
      "[INFO] processed 29000 total images\n",
      "[INFO] processed 30000 total images\n",
      "[INFO] processed 31000 total images\n",
      "[INFO] processed 32000 total images\n",
      "[INFO] processed 33000 total images\n",
      "[INFO] processed 34000 total images\n",
      "[INFO] processed 35000 total images\n",
      "[INFO] processed 36000 total images\n",
      "[INFO] processed 37000 total images\n",
      "[INFO] processed 38000 total images\n",
      "[INFO] processed 39000 total images\n",
      "[INFO] processed 1000 total images\n",
      "[INFO] processed 2000 total images\n",
      "[INFO] processed 3000 total images\n",
      "[INFO] processed 4000 total images\n",
      "[INFO] processed 5000 total images\n",
      "[INFO] processed 6000 total images\n",
      "[INFO] processed 7000 total images\n",
      "[INFO] processed 8000 total images\n",
      "[INFO] processed 9000 total images\n",
      "[INFO] processed 10000 total images\n",
      "[INFO] processed 11000 total images\n",
      "[INFO] processed 12000 total images\n"
     ]
    }
   ],
   "source": [
    "(trainX, trainY) = load_split(\"dataset/\", trainPath)\n",
    "(testX, testY) = load_split(\"dataset/\", testPath)"
   ]
  },
  {
   "cell_type": "markdown",
   "metadata": {},
   "source": [
    "### Normalizing the images"
   ]
  },
  {
   "cell_type": "code",
   "execution_count": 107,
   "metadata": {},
   "outputs": [],
   "source": [
    "trainX = trainX.astype(\"float32\") / 255.0\n",
    "testX = testX.astype(\"float32\") / 255.0"
   ]
  },
  {
   "cell_type": "markdown",
   "metadata": {},
   "source": [
    "### One-hot encode the training and testing labels"
   ]
  },
  {
   "cell_type": "code",
   "execution_count": 10,
   "metadata": {},
   "outputs": [],
   "source": [
    "numLabels = len(np.unique(trainY))\n",
    "trainY = to_categorical(trainY, numLabels)\n",
    "testY = to_categorical(testY, numLabels)"
   ]
  },
  {
   "cell_type": "markdown",
   "metadata": {},
   "source": [
    "### Define Class Weights"
   ]
  },
  {
   "cell_type": "code",
   "execution_count": 41,
   "metadata": {},
   "outputs": [],
   "source": [
    "classTotals = trainY.sum(axis=0)\n",
    "classWeight = classTotals.max() / classTotals"
   ]
  },
  {
   "cell_type": "markdown",
   "metadata": {},
   "source": [
    "### Define Image Data Generator"
   ]
  },
  {
   "cell_type": "code",
   "execution_count": 11,
   "metadata": {},
   "outputs": [],
   "source": [
    "aug = ImageDataGenerator(\n",
    "    rotation_range=10,\n",
    "    zoom_range=0.15,\n",
    "    width_shift_range=0.1,\n",
    "    height_shift_range=0.1,\n",
    "    shear_range=0.15,\n",
    "    horizontal_flip=False,\n",
    "    vertical_flip=False,\n",
    "    fill_mode=\"nearest\"\n",
    ")"
   ]
  },
  {
   "cell_type": "markdown",
   "metadata": {},
   "source": [
    "### Initialize Variables"
   ]
  },
  {
   "cell_type": "code",
   "execution_count": 19,
   "metadata": {},
   "outputs": [],
   "source": [
    "epoch = 30\n",
    "lr = 1e-3\n",
    "batch_size = 64"
   ]
  },
  {
   "cell_type": "markdown",
   "metadata": {},
   "source": [
    "## Define Model Architecture"
   ]
  },
  {
   "cell_type": "code",
   "execution_count": 23,
   "metadata": {},
   "outputs": [],
   "source": [
    "from keras.models import Sequential\n",
    "from keras.layers import *\n",
    "def build_model(width, height, depth, classes):\n",
    "    # initialize the model along with the input shape to be\n",
    "    # \"channels last\" and the channels dimension itself\n",
    "    model = Sequential()\n",
    "    inputShape = (height, width, depth)\n",
    "    chanDim = -1\n",
    "\n",
    "    # CONV => RELU => BN => POOL\n",
    "    model.add(Conv2D(8, (5, 5), padding=\"same\",\n",
    "        input_shape=inputShape))\n",
    "    model.add(Activation(\"relu\"))\n",
    "    model.add(BatchNormalization(axis=chanDim))\n",
    "    model.add(MaxPooling2D(pool_size=(2, 2)))\n",
    "\n",
    "    # first set of (CONV => RELU => CONV => RELU) * 2 => POOL\n",
    "    model.add(Conv2D(16, (3, 3), padding=\"same\"))\n",
    "    model.add(Activation(\"relu\"))\n",
    "    model.add(BatchNormalization(axis=chanDim))\n",
    "    model.add(Conv2D(16, (3, 3), padding=\"same\"))\n",
    "    model.add(Activation(\"relu\"))\n",
    "    model.add(BatchNormalization(axis=chanDim))\n",
    "    model.add(MaxPooling2D(pool_size=(2, 2)))\n",
    "\n",
    "    # second set of (CONV => RELU => CONV => RELU) * 2 => POOL\n",
    "    model.add(Conv2D(32, (3, 3), padding=\"same\"))\n",
    "    model.add(Activation(\"relu\"))\n",
    "    model.add(BatchNormalization(axis=chanDim))\n",
    "    model.add(Conv2D(32, (3, 3), padding=\"same\"))\n",
    "    model.add(Activation(\"relu\"))\n",
    "    model.add(BatchNormalization(axis=chanDim))\n",
    "    model.add(MaxPooling2D(pool_size=(2, 2)))\n",
    "\n",
    "    # first set of FC => RELU layers\n",
    "    model.add(Flatten())\n",
    "    model.add(Dense(128))\n",
    "    model.add(Activation(\"relu\"))\n",
    "    model.add(BatchNormalization())\n",
    "    model.add(Dropout(0.5))\n",
    "\n",
    "    # second set of FC => RELU layers\n",
    "    #model.add(Flatten())\n",
    "    model.add(Dense(128))\n",
    "    model.add(Activation(\"relu\"))\n",
    "    model.add(BatchNormalization())\n",
    "    model.add(Dropout(0.5))\n",
    "\n",
    "    # softmax classifier\n",
    "    model.add(Dense(classes))\n",
    "    model.add(Activation(\"softmax\"))\n",
    "\n",
    "    return model"
   ]
  },
  {
   "cell_type": "markdown",
   "metadata": {},
   "source": [
    "## Compile the Model"
   ]
  },
  {
   "cell_type": "code",
   "execution_count": 94,
   "metadata": {},
   "outputs": [],
   "source": [
    "model = build_model(width=32, height=32, depth=3,classes=numLabels)\n",
    "opt = Adam(lr=lr, decay=lr / (epoch * 0.5))\n",
    "model.compile(loss=\"categorical_crossentropy\", optimizer=opt,metrics=[\"accuracy\"])"
   ]
  },
  {
   "cell_type": "code",
   "execution_count": 95,
   "metadata": {},
   "outputs": [],
   "source": [
    "from keras.callbacks.callbacks import ModelCheckpoint\n",
    "filepath=\"model/model{epoch:02d}-{val_accuracy:.2f}.h5\"\n",
    "checkpoint = ModelCheckpoint(filepath, monitor='val_accuracy', verbose=1, save_best_only=True, mode='max')\n",
    "callbacks_list = [checkpoint]"
   ]
  },
  {
   "cell_type": "code",
   "execution_count": 96,
   "metadata": {},
   "outputs": [
    {
     "name": "stdout",
     "output_type": "stream",
     "text": [
      "Epoch 1/30\n",
      "612/612 [==============================] - 61s 99ms/step - loss: 2.5725 - accuracy: 0.3138 - val_loss: 2.7469 - val_accuracy: 0.2562\n",
      "\n",
      "Epoch 00001: val_accuracy improved from -inf to 0.25622, saving model to model/model01-0.26.h5\n",
      "Epoch 2/30\n",
      "612/612 [==============================] - 56s 91ms/step - loss: 1.2865 - accuracy: 0.5871 - val_loss: 0.6673 - val_accuracy: 0.7718\n",
      "\n",
      "Epoch 00002: val_accuracy improved from 0.25622 to 0.77181, saving model to model/model02-0.77.h5\n",
      "Epoch 3/30\n",
      "612/612 [==============================] - 56s 91ms/step - loss: 0.8605 - accuracy: 0.7221 - val_loss: 0.5557 - val_accuracy: 0.8208\n",
      "\n",
      "Epoch 00003: val_accuracy improved from 0.77181 to 0.82082, saving model to model/model03-0.82.h5\n",
      "Epoch 4/30\n",
      "612/612 [==============================] - 57s 92ms/step - loss: 0.6512 - accuracy: 0.7893 - val_loss: 0.4727 - val_accuracy: 0.8434\n",
      "\n",
      "Epoch 00004: val_accuracy improved from 0.82082 to 0.84339, saving model to model/model04-0.84.h5\n",
      "Epoch 5/30\n",
      "612/612 [==============================] - 57s 92ms/step - loss: 0.5331 - accuracy: 0.8278 - val_loss: 0.4514 - val_accuracy: 0.8618\n",
      "\n",
      "Epoch 00005: val_accuracy improved from 0.84339 to 0.86184, saving model to model/model05-0.86.h5\n",
      "Epoch 6/30\n",
      "612/612 [==============================] - 57s 93ms/step - loss: 0.4484 - accuracy: 0.8531 - val_loss: 0.3142 - val_accuracy: 0.9050\n",
      "\n",
      "Epoch 00006: val_accuracy improved from 0.86184 to 0.90499, saving model to model/model06-0.90.h5\n",
      "Epoch 7/30\n",
      "612/612 [==============================] - 57s 94ms/step - loss: 0.3822 - accuracy: 0.8759 - val_loss: 0.3534 - val_accuracy: 0.8966\n",
      "\n",
      "Epoch 00007: val_accuracy did not improve from 0.90499\n",
      "Epoch 8/30\n",
      "612/612 [==============================] - 60s 98ms/step - loss: 0.3427 - accuracy: 0.8908 - val_loss: 0.6014 - val_accuracy: 0.8306\n",
      "\n",
      "Epoch 00008: val_accuracy did not improve from 0.90499\n",
      "Epoch 9/30\n",
      "612/612 [==============================] - 57s 92ms/step - loss: 0.3034 - accuracy: 0.9035 - val_loss: 0.2679 - val_accuracy: 0.9202\n",
      "\n",
      "Epoch 00009: val_accuracy improved from 0.90499 to 0.92019, saving model to model/model09-0.92.h5\n",
      "Epoch 10/30\n",
      "612/612 [==============================] - 58s 94ms/step - loss: 0.2860 - accuracy: 0.9100 - val_loss: 0.5150 - val_accuracy: 0.8545\n",
      "\n",
      "Epoch 00010: val_accuracy did not improve from 0.92019\n",
      "Epoch 11/30\n",
      "612/612 [==============================] - 55s 90ms/step - loss: 0.2638 - accuracy: 0.9176 - val_loss: 0.2035 - val_accuracy: 0.9405\n",
      "\n",
      "Epoch 00011: val_accuracy improved from 0.92019 to 0.94046, saving model to model/model11-0.94.h5\n",
      "Epoch 12/30\n",
      "612/612 [==============================] - 53s 87ms/step - loss: 0.2404 - accuracy: 0.9255 - val_loss: 0.3393 - val_accuracy: 0.9058\n",
      "\n",
      "Epoch 00012: val_accuracy did not improve from 0.94046\n",
      "Epoch 13/30\n",
      "612/612 [==============================] - 53s 87ms/step - loss: 0.2294 - accuracy: 0.9286 - val_loss: 0.2864 - val_accuracy: 0.9142\n",
      "\n",
      "Epoch 00013: val_accuracy did not improve from 0.94046\n",
      "Epoch 14/30\n",
      "612/612 [==============================] - 53s 87ms/step - loss: 0.2073 - accuracy: 0.9343 - val_loss: 1.0062 - val_accuracy: 0.7517\n",
      "\n",
      "Epoch 00014: val_accuracy did not improve from 0.94046\n",
      "Epoch 15/30\n",
      "612/612 [==============================] - 53s 87ms/step - loss: 0.1964 - accuracy: 0.9386 - val_loss: 0.2489 - val_accuracy: 0.9265\n",
      "\n",
      "Epoch 00015: val_accuracy did not improve from 0.94046\n",
      "Epoch 16/30\n",
      "612/612 [==============================] - 55s 90ms/step - loss: 0.1849 - accuracy: 0.9422 - val_loss: 0.8218 - val_accuracy: 0.7984\n",
      "\n",
      "Epoch 00016: val_accuracy did not improve from 0.94046\n",
      "Epoch 17/30\n",
      "612/612 [==============================] - 55s 89ms/step - loss: 0.1771 - accuracy: 0.9458 - val_loss: 1.2217 - val_accuracy: 0.6826\n",
      "\n",
      "Epoch 00017: val_accuracy did not improve from 0.94046\n",
      "Epoch 18/30\n",
      "612/612 [==============================] - 54s 89ms/step - loss: 0.1703 - accuracy: 0.9466 - val_loss: 5.9914 - val_accuracy: 0.1689\n",
      "\n",
      "Epoch 00018: val_accuracy did not improve from 0.94046\n",
      "Epoch 19/30\n",
      "612/612 [==============================] - 54s 89ms/step - loss: 0.1616 - accuracy: 0.9494 - val_loss: 1.2344 - val_accuracy: 0.7016\n",
      "\n",
      "Epoch 00019: val_accuracy did not improve from 0.94046\n",
      "Epoch 20/30\n",
      "612/612 [==============================] - 55s 89ms/step - loss: 0.1566 - accuracy: 0.9512 - val_loss: 0.6186 - val_accuracy: 0.8305\n",
      "\n",
      "Epoch 00020: val_accuracy did not improve from 0.94046\n",
      "Epoch 21/30\n",
      "612/612 [==============================] - 55s 89ms/step - loss: 0.1474 - accuracy: 0.9552 - val_loss: 3.3689 - val_accuracy: 0.3926\n",
      "\n",
      "Epoch 00021: val_accuracy did not improve from 0.94046\n",
      "Epoch 22/30\n",
      "612/612 [==============================] - 55s 89ms/step - loss: 0.1439 - accuracy: 0.9551 - val_loss: 1.1333 - val_accuracy: 0.7476\n",
      "\n",
      "Epoch 00022: val_accuracy did not improve from 0.94046\n",
      "Epoch 23/30\n",
      "612/612 [==============================] - 53s 87ms/step - loss: 0.1426 - accuracy: 0.9560 - val_loss: 1.9754 - val_accuracy: 0.5940\n",
      "\n",
      "Epoch 00023: val_accuracy did not improve from 0.94046\n",
      "Epoch 24/30\n",
      "612/612 [==============================] - 53s 87ms/step - loss: 0.1356 - accuracy: 0.9587 - val_loss: 4.1054 - val_accuracy: 0.3141\n",
      "\n",
      "Epoch 00024: val_accuracy did not improve from 0.94046\n",
      "Epoch 25/30\n",
      "612/612 [==============================] - 53s 87ms/step - loss: 0.1296 - accuracy: 0.9611 - val_loss: 6.2292 - val_accuracy: 0.0541\n",
      "\n",
      "Epoch 00025: val_accuracy did not improve from 0.94046\n",
      "Epoch 26/30\n",
      "612/612 [==============================] - 54s 87ms/step - loss: 0.1297 - accuracy: 0.9600 - val_loss: 0.2818 - val_accuracy: 0.9215\n",
      "\n",
      "Epoch 00026: val_accuracy did not improve from 0.94046\n",
      "Epoch 27/30\n",
      "612/612 [==============================] - 53s 87ms/step - loss: 0.1251 - accuracy: 0.9612 - val_loss: 1.9951 - val_accuracy: 0.5744\n",
      "\n",
      "Epoch 00027: val_accuracy did not improve from 0.94046\n",
      "Epoch 28/30\n",
      "612/612 [==============================] - 51s 83ms/step - loss: 0.1244 - accuracy: 0.9618 - val_loss: 5.4999 - val_accuracy: 0.2353\n",
      "\n",
      "Epoch 00028: val_accuracy did not improve from 0.94046\n",
      "Epoch 29/30\n",
      "612/612 [==============================] - 51s 83ms/step - loss: 0.1149 - accuracy: 0.9647 - val_loss: 0.9075 - val_accuracy: 0.7802\n",
      "\n",
      "Epoch 00029: val_accuracy did not improve from 0.94046\n",
      "Epoch 30/30\n",
      "612/612 [==============================] - 51s 83ms/step - loss: 0.1208 - accuracy: 0.9629 - val_loss: 0.2136 - val_accuracy: 0.9380\n",
      "\n",
      "Epoch 00030: val_accuracy did not improve from 0.94046\n"
     ]
    }
   ],
   "source": [
    
    "H = model.fit_generator(\n",
    "    aug.flow(trainX, trainY, batch_size=batch_size),\n",
    "    validation_data=(testX, testY),\n",
    "    steps_per_epoch=trainX.shape[0] // batch_size,\n",
    "    epochs=epoch,\n",
    "    class_weight=classWeight,\n",
    "    callbacks=callbacks_list,\n",
    "    verbose=1)"
   ]
  },
  {
   "cell_type": "markdown",
   "metadata": {},
   "source": [
    "best model was found at epoch number 10"
   ]
  },
  {
   "cell_type": "markdown",
   "metadata": {},
   "source": [
    "### Load the best model"
   ]
  },
  {
   "cell_type": "code",
   "execution_count": 120,
   "metadata": {},
   "outputs": [],
   "source": [
    "from keras.models import load_model\n",
    "model = load_model('model/model11-0.94.h5')"
   ]
  },
  {
   "cell_type": "markdown",
   "metadata": {},
   "source": [
    "## Results"
   ]
  },
  {
   "cell_type": "code",
   "execution_count": 121,
   "metadata": {},
   "outputs": [],
   "source": [
    "predictions = model.predict(testX)\n",
    "predictions = predictions.argmax(axis=1)"
   ]
  },
  {
   "cell_type": "code",
   "execution_count": 122,
   "metadata": {},
   "outputs": [
    {
     "data": {
      "text/plain": [
       "0.9404592240696754"
      ]
     },
     "execution_count": 122,
     "metadata": {},
     "output_type": "execute_result"
    }
   ],
   "source": [
    "from sklearn.metrics import accuracy_score\n",
    "accuracy_score(testY.argmax(axis=1), predictions)"
   ]
  },
  {
   "cell_type": "code",
   "execution_count": 123,
   "metadata": {},
   "outputs": [
    {
     "name": "stdout",
     "output_type": "stream",
     "text": [
      "                                                    precision    recall  f1-score   support\n",
      "\n",
      "                              Speed limit (20km/h)       0.90      0.93      0.92        60\n",
      "                              Speed limit (30km/h)       0.98      0.97      0.97       720\n",
      "                              Speed limit (50km/h)       0.91      0.98      0.94       750\n",
      "                              Speed limit (60km/h)       0.89      0.95      0.92       450\n",
      "                              Speed limit (70km/h)       0.98      0.96      0.97       660\n",
      "                              Speed limit (80km/h)       0.92      0.86      0.89       630\n",
      "                       End of speed limit (80km/h)       0.85      0.94      0.90       150\n",
      "                             Speed limit (100km/h)       0.94      0.90      0.92       450\n",
      "                             Speed limit (120km/h)       0.89      0.95      0.92       450\n",
      "                                        No passing       0.98      0.97      0.98       480\n",
      "      No passing for vehicles over 3.5 metric tons       0.99      0.96      0.98       660\n",
      "             Right-of-way at the next intersection       0.93      0.95      0.94       420\n",
      "                                     Priority road       0.99      0.98      0.98       690\n",
      "                                             Yield       1.00      0.99      1.00       720\n",
      "                                              Stop       1.00      1.00      1.00       270\n",
      "                                       No vehicles       0.99      0.96      0.97       210\n",
      "          Vehicles over 3.5 metric tons prohibited       0.96      1.00      0.98       150\n",
      "                                          No entry       1.00      0.99      1.00       360\n",
      "                                   General caution       0.99      0.77      0.87       390\n",
      "                       Dangerous curve to the left       0.81      0.98      0.89        60\n",
      "                      Dangerous curve to the right       0.77      0.79      0.78        90\n",
      "                                      Double curve       0.84      0.76      0.80        90\n",
      "                                        Bumpy road       0.89      0.88      0.88       120\n",
      "                                     Slippery road       0.84      0.94      0.89       150\n",
      "                         Road narrows on the right       0.90      0.84      0.87        90\n",
      "                                         Road work       0.92      0.97      0.94       480\n",
      "                                   Traffic signals       0.88      0.92      0.90       180\n",
      "                                       Pedestrians       0.48      0.45      0.47        60\n",
      "                                 Children crossing       0.83      0.97      0.90       150\n",
      "                                 Bicycles crossing       0.61      0.98      0.75        90\n",
      "                                Beware of ice/snow       0.96      0.48      0.64       150\n",
      "                             Wild animals crossing       0.87      0.96      0.92       270\n",
      "               End of all speed and passing limits       0.98      0.78      0.87        60\n",
      "                                  Turn right ahead       0.98      0.99      0.98       210\n",
      "                                   Turn left ahead       0.98      1.00      0.99       120\n",
      "                                        Ahead only       1.00      0.96      0.98       390\n",
      "                              Go straight or right       0.97      0.93      0.95       120\n",
      "                               Go straight or left       0.98      1.00      0.99        60\n",
      "                                        Keep right       0.99      0.98      0.98       690\n",
      "                                         Keep left       0.91      1.00      0.95        90\n",
      "                              Roundabout mandatory       0.83      1.00      0.91        90\n",
      "                                 End of no passing       0.79      0.97      0.87        60\n",
      "End of no passing by vehicles over 3.5 metric tons       0.97      0.81      0.88        90\n",
      "\n",
      "                                          accuracy                           0.94     12630\n",
      "                                         macro avg       0.91      0.91      0.91     12630\n",
      "                                      weighted avg       0.94      0.94      0.94     12630\n",
      "\n"
     ]
    }
   ],
   "source": [
    "print(classification_report(testY.argmax(axis=1), predictions, target_names=labelNames))"
   ]
  },
  {
   "cell_type": "markdown",
   "metadata": {},
   "source": [
    "### Print Loss/Accuracy measurnments"
   ]
  },
  {
   "cell_type": "code",
   "execution_count": 114,
   "metadata": {},
   "outputs": [
    {
     "data": {
      "image/png": "[encoded data removed]",
      "text/plain": [
       "<Figure size 432x288 with 1 Axes>"
      ]
     },
     "metadata": {},
     "output_type": "display_data"
    }
   ],
   "source": [
    "# plot the training loss and accuracy\n",
    "N = np.arange(0, epoch)\n",
    "plt.style.use(\"ggplot\")\n",
    "plt.figure()\n",
    "plt.plot(N, H.history[\"loss\"], label=\"train_loss\")\n",
    "plt.plot(N, H.history[\"val_loss\"], label=\"val_loss\")\n",
    "plt.title(\"Training Loss on Dataset\")\n",
    "plt.xlabel(\"Epoch #\")\n",
    "plt.ylabel(\"Loss\")\n",
    "plt.legend(loc=\"upper right\")\n",
    "plt.savefig(\"output/loss_plot.png\")"
   ]
  },
  {
   "cell_type": "code",
   "execution_count": 115,
   "metadata": {},
   "outputs": [
    {
     "data": {
      "image/png": "[encoded data removed]",
      "text/plain": [
       "<Figure size 432x288 with 1 Axes>"
      ]
     },
     "metadata": {},
     "output_type": "display_data"
    }
   ],
   "source": [
    "# plot the training loss and accuracy\n",
    "N = np.arange(0, epoch)\n",
    "plt.style.use(\"ggplot\")\n",
    "plt.figure()\n",
    "plt.plot(N, H.history[\"accuracy\"], label=\"train_acc\")\n",
    "plt.plot(N, H.history[\"val_accuracy\"], label=\"val_acc\")\n",
    "plt.title(\"Training Accuracy on Dataset\")\n",
    "plt.xlabel(\"Epoch #\")\n",
    "plt.ylabel(\"accuracy\")\n",
    "plt.legend(loc=\"upper right\")\n",
    "plt.savefig(\"output/accuracy_plot.png\")"
   ]
  },
  {
   "cell_type": "code",
   "execution_count": null,
   "metadata": {},
   "outputs": [],
   "source": []
  }
 ],
 "metadata": {
  "kernelspec": {
   "display_name": "Python 3",
   "language": "python",
   "name": "python3"
  },
  "language_info": {
   "codemirror_mode": {
    "name": "ipython",
    "version": 3
   },
   "file_extension": ".py",
   "mimetype": "text/x-python",
   "name": "python",
   "nbconvert_exporter": "python",
   "pygments_lexer": "ipython3",
   "version": "3.7.6"
  }
 },
 "nbformat": 4,
 "nbformat_minor": 4
}
