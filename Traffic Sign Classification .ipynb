{
 "cells": [
  {
   "cell_type": "code",
   "execution_count": 1,
   "metadata": {},
   "outputs": [
    {
     "name": "stderr",
     "output_type": "stream",
     "text": [
      "Using TensorFlow backend.\n"
     ]
    }
   ],
   "source": [
    "from keras.preprocessing.image import ImageDataGenerator\n",
    "from keras.optimizers import Adam\n",
    "from keras.utils import to_categorical\n",
    "from sklearn.metrics import confusion_matrix, classification_report\n",
    "from skimage import transform\n",
    "from skimage import exposure\n",
    "from skimage import io\n",
    "import matplotlib.pyplot as plt\n",
    "import numpy as np\n",
    "import random\n",
    "import os\n"
   ]
  },
  {
   "cell_type": "code",
   "execution_count": 2,
   "metadata": {},
   "outputs": [],
   "source": [
    "def load_split(basePath, csvPath):\n",
    "    # initialize the list of data and labels\n",
    "    data = []\n",
    "    labels = []\n",
    "\n",
    "    rows = open(csvPath).read().strip().split(\"\\n\")[1:]\n",
    "    random.shuffle(rows)\n",
    "\n",
    "    # loop over the rows of the CSV file\n",
    "    for (i, row) in enumerate(rows):\n",
    "        # check to see if we should show a status update\n",
    "        if i > 0 and i % 1000 == 0:\n",
    "            print(\"[INFO] processed {} total images\".format(i))\n",
    "\n",
    "        # split the row into components and then grab the class ID\n",
    "        # and image path\n",
    "        (label, imagePath) = row.strip().split(\",\")[-2:]\n",
    "\n",
    "        # derive the full path to the image file and load it\n",
    "        imagePath =  basePath + imagePath\n",
    "        image = io.imread(imagePath)\n",
    "\n",
    "        # resize the image to be 32x32 pixels, ignoring aspect ratio,\n",
    "        # and then perform Contrast Limited Adaptive Histogram\n",
    "        # Equalization (CLAHE)\n",
    "        image = transform.resize(image, (32, 32))\n",
    "        image = exposure.equalize_adapthist(image, clip_limit=0.1)\n",
    "\n",
    "        # update the list of data and labels, respectively\n",
    "        data.append(image)\n",
    "        labels.append(int(label))\n",
    "\n",
    "    # convert the data and labels to NumPy arrays\n",
    "    data = np.array(data)\n",
    "    labels = np.array(labels)\n",
    "\n",
    "    # return a tuple of the data and labels\n",
    "    return (data, labels)"
   ]
  },
  {
   "cell_type": "code",
   "execution_count": 6,
   "metadata": {},
   "outputs": [],
   "source": [
    "# load the label names\n",
    "labelNames = open(\"signnames.csv\").read().strip().split(\"\\n\")[1:]\n",
    "labelNames = [l.split(\",\")[1] for l in labelNames]"
   ]
  },
  {
   "cell_type": "code",
   "execution_count": 7,
   "metadata": {},
   "outputs": [],
   "source": [
    "# derive the path to the training and testing CSV files\n",
    "trainPath = \"dataset/Train.csv\"\n",
    "testPath = \"dataset/Test.csv\""
   ]
  },
  {
   "cell_type": "code",
   "execution_count": 8,
   "metadata": {},
   "outputs": [
    {
     "name": "stdout",
     "output_type": "stream",
     "text": [
      "[INFO] loading training and testing data...\n",
      "[INFO] processed 1000 total images\n",
      "[INFO] processed 2000 total images\n",
      "[INFO] processed 3000 total images\n",
      "[INFO] processed 4000 total images\n",
      "[INFO] processed 5000 total images\n",
      "[INFO] processed 6000 total images\n",
      "[INFO] processed 7000 total images\n",
      "[INFO] processed 8000 total images\n",
      "[INFO] processed 9000 total images\n",
      "[INFO] processed 10000 total images\n",
      "[INFO] processed 11000 total images\n",
      "[INFO] processed 12000 total images\n",
      "[INFO] processed 13000 total images\n",
      "[INFO] processed 14000 total images\n",
      "[INFO] processed 15000 total images\n",
      "[INFO] processed 16000 total images\n",
      "[INFO] processed 17000 total images\n",
      "[INFO] processed 18000 total images\n",
      "[INFO] processed 19000 total images\n",
      "[INFO] processed 20000 total images\n",
      "[INFO] processed 21000 total images\n",
      "[INFO] processed 22000 total images\n",
      "[INFO] processed 23000 total images\n",
      "[INFO] processed 24000 total images\n",
      "[INFO] processed 25000 total images\n",
      "[INFO] processed 26000 total images\n",
      "[INFO] processed 27000 total images\n",
      "[INFO] processed 28000 total images\n",
      "[INFO] processed 29000 total images\n",
      "[INFO] processed 30000 total images\n",
      "[INFO] processed 31000 total images\n",
      "[INFO] processed 32000 total images\n",
      "[INFO] processed 33000 total images\n",
      "[INFO] processed 34000 total images\n",
      "[INFO] processed 35000 total images\n",
      "[INFO] processed 36000 total images\n",
      "[INFO] processed 37000 total images\n",
      "[INFO] processed 38000 total images\n",
      "[INFO] processed 39000 total images\n",
      "[INFO] processed 1000 total images\n",
      "[INFO] processed 2000 total images\n",
      "[INFO] processed 3000 total images\n",
      "[INFO] processed 4000 total images\n",
      "[INFO] processed 5000 total images\n",
      "[INFO] processed 6000 total images\n",
      "[INFO] processed 7000 total images\n",
      "[INFO] processed 8000 total images\n",
      "[INFO] processed 9000 total images\n",
      "[INFO] processed 10000 total images\n",
      "[INFO] processed 11000 total images\n",
      "[INFO] processed 12000 total images\n"
     ]
    }
   ],
   "source": [
    "# load the training and testing data\n",
    "print(\"[INFO] loading training and testing data...\")\n",
    "(trainX, trainY) = load_split(\"dataset/\", trainPath)\n",
    "(testX, testY) = load_split(\"dataset/\", testPath)"
   ]
  },
  {
   "cell_type": "code",
   "execution_count": 9,
   "metadata": {},
   "outputs": [],
   "source": [
    "trainX = trainX.astype(\"float32\") / 255.0\n",
    "testX = testX.astype(\"float32\") / 255.0"
   ]
  },
  {
   "cell_type": "code",
   "execution_count": 10,
   "metadata": {},
   "outputs": [],
   "source": [
    "# one-hot encode the training and testing labels\n",
    "numLabels = len(np.unique(trainY))\n",
    "trainY = to_categorical(trainY, numLabels)\n",
    "testY = to_categorical(testY, numLabels)"
   ]
  },
  {
   "cell_type": "code",
   "execution_count": 41,
   "metadata": {},
   "outputs": [],
   "source": [
    "# account for skew in the labeled data\n",
    "classTotals = trainY.sum(axis=0)\n",
    "classWeight = classTotals.max() / classTotals"
   ]
  },
  {
   "cell_type": "code",
   "execution_count": null,
   "metadata": {},
   "outputs": [],
   "source": []
  },
  {
   "cell_type": "code",
   "execution_count": 11,
   "metadata": {},
   "outputs": [],
   "source": [
    "aug = ImageDataGenerator(\n",
    "    rotation_range=10,\n",
    "    zoom_range=0.15,\n",
    "    width_shift_range=0.1,\n",
    "    height_shift_range=0.1,\n",
    "    shear_range=0.15,\n",
    "    horizontal_flip=False,\n",
    "    vertical_flip=False,\n",
    "    fill_mode=\"nearest\"\n",
    ")"
   ]
  },
  {
   "cell_type": "code",
   "execution_count": 19,
   "metadata": {},
   "outputs": [],
   "source": [
    "# initialize the number of epochs to train for, base learning rate,\n",
    "# and batch size\n",
    "epoch = 30\n",
    "lr = 1e-3\n",
    "batch_size = 64"
   ]
  },
  {
   "cell_type": "code",
   "execution_count": 23,
   "metadata": {},
   "outputs": [],
   "source": [
    "from keras.models import Sequential\n",
    "from keras.layers import *\n",
    "def build_model(width, height, depth, classes):\n",
    "\t# initialize the model along with the input shape to be\n",
    "\t# \"channels last\" and the channels dimension itself\n",
    "\tmodel = Sequential()\n",
    "\tinputShape = (height, width, depth)\n",
    "\tchanDim = -1\n",
    "\n",
    "\t# CONV => RELU => BN => POOL\n",
    "\tmodel.add(Conv2D(8, (5, 5), padding=\"same\",\n",
    "\t\tinput_shape=inputShape))\n",
    "\tmodel.add(Activation(\"relu\"))\n",
    "\tmodel.add(BatchNormalization(axis=chanDim))\n",
    "\tmodel.add(MaxPooling2D(pool_size=(2, 2)))\n",
    "\n",
    "\t# first set of (CONV => RELU => CONV => RELU) * 2 => POOL\n",
    "\tmodel.add(Conv2D(16, (3, 3), padding=\"same\"))\n",
    "\tmodel.add(Activation(\"relu\"))\n",
    "\tmodel.add(BatchNormalization(axis=chanDim))\n",
    "\tmodel.add(Conv2D(16, (3, 3), padding=\"same\"))\n",
    "\tmodel.add(Activation(\"relu\"))\n",
    "\tmodel.add(BatchNormalization(axis=chanDim))\n",
    "\tmodel.add(MaxPooling2D(pool_size=(2, 2)))\n",
    "\n",
    "\t# second set of (CONV => RELU => CONV => RELU) * 2 => POOL\n",
    "\tmodel.add(Conv2D(32, (3, 3), padding=\"same\"))\n",
    "\tmodel.add(Activation(\"relu\"))\n",
    "\tmodel.add(BatchNormalization(axis=chanDim))\n",
    "\tmodel.add(Conv2D(32, (3, 3), padding=\"same\"))\n",
    "\tmodel.add(Activation(\"relu\"))\n",
    "\tmodel.add(BatchNormalization(axis=chanDim))\n",
    "\tmodel.add(MaxPooling2D(pool_size=(2, 2)))\n",
    "\n",
    "\t# first set of FC => RELU layers\n",
    "\tmodel.add(Flatten())\n",
    "\tmodel.add(Dense(128))\n",
    "\tmodel.add(Activation(\"relu\"))\n",
    "\tmodel.add(BatchNormalization())\n",
    "\tmodel.add(Dropout(0.5))\n",
    "\n",
    "\t# second set of FC => RELU layers\n",
    "\t#model.add(Flatten())\n",
    "\tmodel.add(Dense(128))\n",
    "\tmodel.add(Activation(\"relu\"))\n",
    "\tmodel.add(BatchNormalization())\n",
    "\tmodel.add(Dropout(0.5))\n",
    "\n",
    "\t# softmax classifier\n",
    "\tmodel.add(Dense(classes))\n",
    "\tmodel.add(Activation(\"softmax\"))\n",
    "\n",
    "\t# return the constructed network architecture\n",
    "\treturn model"
   ]
  },
  {
   "cell_type": "markdown",
   "metadata": {},
   "source": [
    "## Define Model"
   ]
  },
  {
   "cell_type": "code",
   "execution_count": 24,
   "metadata": {},
   "outputs": [],
   "source": [
    "model = build_model(width=32, height=32, depth=3,classes=numLabels)\n",
    "opt = Adam(lr=lr, decay=lr / (epoch * 0.5))\n",
    "model.compile(loss=\"categorical_crossentropy\", optimizer=opt,metrics=[\"accuracy\"])"
   ]
  },
  {
   "cell_type": "code",
   "execution_count": 42,
   "metadata": {},
   "outputs": [
    {
     "name": "stdout",
     "output_type": "stream",
     "text": [
      "Epoch 1/30\n",
      "612/612 [==============================] - 60s 98ms/step - loss: 2.6888 - accuracy: 0.2904 - val_loss: 3.0429 - val_accuracy: 0.2186\n",
      "Epoch 2/30\n",
      "612/612 [==============================] - 56s 92ms/step - loss: 1.3333 - accuracy: 0.5790 - val_loss: 0.7640 - val_accuracy: 0.7472\n",
      "Epoch 3/30\n",
      "612/612 [==============================] - 56s 91ms/step - loss: 0.8438 - accuracy: 0.7278 - val_loss: 0.4514 - val_accuracy: 0.8490\n",
      "Epoch 4/30\n",
      "612/612 [==============================] - 57s 93ms/step - loss: 0.6353 - accuracy: 0.7946 - val_loss: 0.4833 - val_accuracy: 0.8394\n",
      "Epoch 5/30\n",
      "612/612 [==============================] - 59s 96ms/step - loss: 0.5068 - accuracy: 0.8372 - val_loss: 0.3275 - val_accuracy: 0.8930\n",
      "Epoch 6/30\n",
      "612/612 [==============================] - 58s 94ms/step - loss: 0.4581 - accuracy: 0.8515 - val_loss: 0.3905 - val_accuracy: 0.8746\n",
      "Epoch 7/30\n",
      "612/612 [==============================] - 58s 94ms/step - loss: 0.3896 - accuracy: 0.8745 - val_loss: 0.2944 - val_accuracy: 0.9070\n",
      "Epoch 8/30\n",
      "612/612 [==============================] - 58s 95ms/step - loss: 0.3432 - accuracy: 0.8898 - val_loss: 0.2898 - val_accuracy: 0.9087\n",
      "Epoch 9/30\n",
      "612/612 [==============================] - 61s 100ms/step - loss: 0.3050 - accuracy: 0.9027 - val_loss: 0.3117 - val_accuracy: 0.9055\n",
      "Epoch 10/30\n",
      "612/612 [==============================] - 61s 99ms/step - loss: 0.2780 - accuracy: 0.9105 - val_loss: 0.2136 - val_accuracy: 0.9317\n",
      "Epoch 11/30\n",
      "612/612 [==============================] - 60s 99ms/step - loss: 0.2559 - accuracy: 0.9202 - val_loss: 0.2253 - val_accuracy: 0.9295\n",
      "Epoch 12/30\n",
      "612/612 [==============================] - 62s 101ms/step - loss: 0.2313 - accuracy: 0.9287 - val_loss: 0.2229 - val_accuracy: 0.9332\n",
      "Epoch 13/30\n",
      "612/612 [==============================] - 68s 110ms/step - loss: 0.2110 - accuracy: 0.9342 - val_loss: 0.2008 - val_accuracy: 0.9353\n",
      "Epoch 14/30\n",
      "612/612 [==============================] - 56s 92ms/step - loss: 0.2052 - accuracy: 0.9355 - val_loss: 0.2234 - val_accuracy: 0.9390\n",
      "Epoch 15/30\n",
      "612/612 [==============================] - 54s 89ms/step - loss: 0.1935 - accuracy: 0.9392 - val_loss: 1.2062 - val_accuracy: 0.6819\n",
      "Epoch 16/30\n",
      "612/612 [==============================] - 54s 89ms/step - loss: 0.1833 - accuracy: 0.9426 - val_loss: 0.3052 - val_accuracy: 0.9082\n",
      "Epoch 17/30\n",
      "612/612 [==============================] - 55s 89ms/step - loss: 0.1761 - accuracy: 0.9448 - val_loss: 0.6612 - val_accuracy: 0.8200\n",
      "Epoch 18/30\n",
      "612/612 [==============================] - 54s 88ms/step - loss: 0.1666 - accuracy: 0.9475 - val_loss: 0.7111 - val_accuracy: 0.8096\n",
      "Epoch 19/30\n",
      "612/612 [==============================] - 54s 89ms/step - loss: 0.1589 - accuracy: 0.9514 - val_loss: 0.2513 - val_accuracy: 0.9287\n",
      "Epoch 20/30\n",
      "612/612 [==============================] - 54s 89ms/step - loss: 0.1524 - accuracy: 0.9527 - val_loss: 0.4721 - val_accuracy: 0.8731\n",
      "Epoch 21/30\n",
      "612/612 [==============================] - 54s 88ms/step - loss: 0.1502 - accuracy: 0.9532 - val_loss: 0.1879 - val_accuracy: 0.9444\n",
      "Epoch 22/30\n",
      "612/612 [==============================] - 54s 89ms/step - loss: 0.1382 - accuracy: 0.9573 - val_loss: 0.1962 - val_accuracy: 0.9440\n",
      "Epoch 23/30\n",
      "612/612 [==============================] - 54s 89ms/step - loss: 0.1430 - accuracy: 0.9559 - val_loss: 0.2123 - val_accuracy: 0.9425\n",
      "Epoch 24/30\n",
      "612/612 [==============================] - 54s 89ms/step - loss: 0.1351 - accuracy: 0.9584 - val_loss: 0.2746 - val_accuracy: 0.9259\n",
      "Epoch 25/30\n",
      "612/612 [==============================] - 55s 90ms/step - loss: 0.1313 - accuracy: 0.9594 - val_loss: 0.6678 - val_accuracy: 0.8245\n",
      "Epoch 26/30\n",
      "612/612 [==============================] - 55s 90ms/step - loss: 0.1284 - accuracy: 0.9597 - val_loss: 0.2577 - val_accuracy: 0.9245\n",
      "Epoch 27/30\n",
      "612/612 [==============================] - 57s 93ms/step - loss: 0.1210 - accuracy: 0.9630 - val_loss: 0.3759 - val_accuracy: 0.8901\n",
      "Epoch 28/30\n",
      "612/612 [==============================] - 64s 105ms/step - loss: 0.1199 - accuracy: 0.9628 - val_loss: 1.2982 - val_accuracy: 0.7324\n",
      "Epoch 29/30\n",
      "612/612 [==============================] - 61s 100ms/step - loss: 0.1150 - accuracy: 0.9641 - val_loss: 1.5274 - val_accuracy: 0.6998\n",
      "Epoch 30/30\n",
      "612/612 [==============================] - 61s 100ms/step - loss: 0.1171 - accuracy: 0.9641 - val_loss: 4.8583 - val_accuracy: 0.2448\n"
     ]
    }
   ],
   "source": [
    "# compile the model and train the network\n",
    "# print(\"[INFO] training network...\")\n",
    "from keras.callbacks import EarlyStopping\n",
    "\n",
    "H = model.fit_generator(\n",
    "    aug.flow(trainX, trainY, batch_size=batch_size),\n",
    "    validation_data=(testX, testY),\n",
    "    steps_per_epoch=trainX.shape[0] // batch_size,\n",
    "    epochs=epoch,\n",
    "    class_weight=classWeight,\n",
    "    callbacks=[early_stopping_monitor],\n",
    "    verbose=1)"
   ]
  },
  {
   "cell_type": "code",
   "execution_count": 59,
   "metadata": {},
   "outputs": [],
   "source": [
    "predictions = model.predict(testX)"
   ]
  },
  {
   "cell_type": "code",
   "execution_count": 64,
   "metadata": {},
   "outputs": [
    {
     "name": "stdout",
     "output_type": "stream",
     "text": [
      "                                                    precision    recall  f1-score   support\n",
      "\n",
      "                              Speed limit (20km/h)       0.03      0.73      0.06        60\n",
      "                              Speed limit (30km/h)       0.33      0.65      0.44       720\n",
      "                              Speed limit (50km/h)       0.75      0.01      0.02       750\n",
      "                              Speed limit (60km/h)       0.00      0.00      0.00       450\n",
      "                              Speed limit (70km/h)       0.00      0.00      0.00       660\n",
      "                              Speed limit (80km/h)       0.42      0.01      0.02       630\n",
      "                       End of speed limit (80km/h)       0.00      0.00      0.00       150\n",
      "                             Speed limit (100km/h)       0.97      0.07      0.14       450\n",
      "                             Speed limit (120km/h)       0.55      0.10      0.17       450\n",
      "                                        No passing       0.81      0.07      0.13       480\n",
      "      No passing for vehicles over 3.5 metric tons       1.00      0.00      0.00       660\n",
      "             Right-of-way at the next intersection       0.34      0.27      0.30       420\n",
      "                                     Priority road       0.88      0.60      0.72       690\n",
      "                                             Yield       1.00      0.21      0.35       720\n",
      "                                              Stop       0.07      0.86      0.13       270\n",
      "                                       No vehicles       0.50      0.01      0.02       210\n",
      "          Vehicles over 3.5 metric tons prohibited       0.75      0.24      0.36       150\n",
      "                                          No entry       0.12      0.91      0.21       360\n",
      "                                   General caution       0.00      0.00      0.00       390\n",
      "                       Dangerous curve to the left       0.00      0.00      0.00        60\n",
      "                      Dangerous curve to the right       0.09      0.43      0.14        90\n",
      "                                      Double curve       0.00      0.00      0.00        90\n",
      "                                        Bumpy road       0.00      0.00      0.00       120\n",
      "                                     Slippery road       0.64      0.09      0.16       150\n",
      "                         Road narrows on the right       0.00      0.00      0.00        90\n",
      "                                         Road work       0.50      0.02      0.04       480\n",
      "                                   Traffic signals       0.00      0.00      0.00       180\n",
      "                                       Pedestrians       0.00      0.00      0.00        60\n",
      "                                 Children crossing       0.27      0.15      0.19       150\n",
      "                                 Bicycles crossing       0.17      0.43      0.24        90\n",
      "                                Beware of ice/snow       0.67      0.04      0.08       150\n",
      "                             Wild animals crossing       0.50      0.00      0.01       270\n",
      "               End of all speed and passing limits       0.00      0.00      0.00        60\n",
      "                                  Turn right ahead       1.00      0.43      0.60       210\n",
      "                                   Turn left ahead       1.00      0.59      0.74       120\n",
      "                                        Ahead only       1.00      0.47      0.64       390\n",
      "                              Go straight or right       0.50      0.21      0.29       120\n",
      "                               Go straight or left       0.68      0.43      0.53        60\n",
      "                                        Keep right       0.87      0.74      0.80       690\n",
      "                                         Keep left       0.21      0.88      0.34        90\n",
      "                              Roundabout mandatory       0.16      0.67      0.25        90\n",
      "                                 End of no passing       0.00      0.00      0.00        60\n",
      "End of no passing by vehicles over 3.5 metric tons       0.00      0.00      0.00        90\n",
      "\n",
      "                                          accuracy                           0.24     12630\n",
      "                                         macro avg       0.39      0.24      0.19     12630\n",
      "                                      weighted avg       0.53      0.24      0.23     12630\n",
      "\n"
     ]
    }
   ],
   "source": [
    "print(classification_report(testY.argmax(axis=1), predictions.argmax(axis=1), target_names=labelNames))"
   ]
  },
  {
   "cell_type": "code",
   "execution_count": 65,
   "metadata": {},
   "outputs": [],
   "source": [
    "model.save(\"model/model.h5\")"
   ]
  },
  {
   "cell_type": "code",
   "execution_count": 72,
   "metadata": {},
   "outputs": [
    {
     "data": {
      "image/png": "[encoded data removed]",
      "text/plain": [
       "<Figure size 432x288 with 1 Axes>"
      ]
     },
     "metadata": {},
     "output_type": "display_data"
    }
   ],
   "source": [
    "# plot the training loss and accuracy\n",
    "N = np.arange(0, epoch)\n",
    "plt.style.use(\"ggplot\")\n",
    "plt.figure()\n",
    "plt.plot(N, H.history[\"loss\"], label=\"train_loss\")\n",
    "plt.plot(N, H.history[\"val_loss\"], label=\"val_loss\")\n",
    "plt.title(\"Training Loss on Dataset\")\n",
    "plt.xlabel(\"Epoch #\")\n",
    "plt.ylabel(\"Loss\")\n",
    "plt.legend(loc=\"upper right\")\n",
    "plt.savefig(\"output/plot.png\")"
   ]
  },
  {
   "cell_type": "code",
   "execution_count": 71,
   "metadata": {},
   "outputs": [
    {
     "data": {
      "image/png": "[encoded data removed]",
      "text/plain": [
       "<Figure size 432x288 with 1 Axes>"
      ]
     },
     "metadata": {},
     "output_type": "display_data"
    }
   ],
   "source": [
    "# plot the training loss and accuracy\n",
    "N = np.arange(0, epoch)\n",
    "plt.style.use(\"ggplot\")\n",
    "plt.figure()\n",
    "plt.plot(N, H.history[\"accuracy\"], label=\"train_acc\")\n",
    "plt.plot(N, H.history[\"val_accuracy\"], label=\"val_acc\")\n",
    "plt.title(\"Training Accuracy on Dataset\")\n",
    "plt.xlabel(\"Epoch #\")\n",
    "plt.ylabel(\"accuracy\")\n",
    "plt.legend(loc=\"upper right\")\n",
    "plt.savefig(\"output/plot.png\")"
   ]
  },
  {
   "cell_type": "code",
   "execution_count": null,
   "metadata": {},
   "outputs": [],
   "source": []
  },
  {
   "cell_type": "code",
   "execution_count": null,
   "metadata": {},
   "outputs": [],
   "source": []
  },
  {
   "cell_type": "code",
   "execution_count": null,
   "metadata": {},
   "outputs": [],
   "source": []
  }
 ],
 "metadata": {
  "kernelspec": {
   "display_name": "Python 3",
   "language": "python",
   "name": "python3"
  },
  "language_info": {
   "codemirror_mode": {
    "name": "ipython",
    "version": 3
   },
   "file_extension": ".py",
   "mimetype": "text/x-python",
   "name": "python",
   "nbconvert_exporter": "python",
   "pygments_lexer": "ipython3",
   "version": "3.7.6"
  }
 },
 "nbformat": 4,
 "nbformat_minor": 4
}
